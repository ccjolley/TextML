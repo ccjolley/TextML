{
 "cells": [
  {
   "cell_type": "markdown",
   "metadata": {},
   "source": [
    "# Basic Regex Homework"
   ]
  },
  {
   "cell_type": "code",
   "execution_count": 1,
   "metadata": {
    "collapsed": true
   },
   "outputs": [],
   "source": [
    "# use print only as a function\n",
    "from __future__ import print_function"
   ]
  },
  {
   "cell_type": "markdown",
   "metadata": {},
   "source": [
    "## Homework 1: FAA tower closures\n",
    "\n",
    "A list of FAA tower closures has been copied from a [PDF](http://www.faa.gov/news/media/fct_closed.pdf) into the file **`faa.txt`**, which is stored in the **`data`** directory of the course repository."
   ]
  },
  {
   "cell_type": "code",
   "execution_count": 1,
   "metadata": {
    "collapsed": false
   },
   "outputs": [],
   "source": [
    "# read the file into a single string\n",
    "with open('faa.txt',encoding='utf-8') as f:\n",
    "    data = f.read()"
   ]
  },
  {
   "cell_type": "code",
   "execution_count": 2,
   "metadata": {
    "collapsed": false
   },
   "outputs": [
    {
     "data": {
      "text/plain": [
       "5574"
      ]
     },
     "execution_count": 2,
     "metadata": {},
     "output_type": "execute_result"
    }
   ],
   "source": [
    "# check the number of characters\n",
    "len(data)"
   ]
  },
  {
   "cell_type": "code",
   "execution_count": 3,
   "metadata": {
    "collapsed": false
   },
   "outputs": [
    {
     "name": "stdout",
     "output_type": "stream",
     "text": [
      "FAA Contract Tower Closure List\n",
      "(149 FCTs)\n",
      "3‐22‐2013\n",
      "LOC\n",
      "ID Facility Name City State\n",
      "DHN DOTHAN RGNL DOTHAN AL\n",
      "TCL TUSCALOOSA RGNL TUSCALOOSA AL\n",
      "FYV DRAKE FIELD FAYETTEVILLE AR\n",
      "TXK TEXARKANA RGNL-WEBB FIELD TEXARKANA AR\n",
      "GEU GLENDALE MUNI GLENDALE AZ\n",
      "GYR PHOENIX GOODYEAR GOODYEAR AZ\n",
      "IFP LAUGHLIN/BULLHEAD INTL BULLHEAD CITY AZ\n",
      "RYN RYAN FIELD TUCSON AZ\n",
      "FUL FULLERTON MUNI FULLERTON CA\n",
      "MER CASTLE ATWATER CA\n",
      "OXR OXNARD OXNARD CA\n",
      "RAL RIVERSIDE MUNI RIVERSIDE CA\n",
      "RNM RAMONA RAMONA CA\n",
      "SAC SACRAMENTO EXECU\n"
     ]
    }
   ],
   "source": [
    "# examine the first 500 characters\n",
    "print(data[0:500])"
   ]
  },
  {
   "cell_type": "code",
   "execution_count": 5,
   "metadata": {
    "collapsed": false
   },
   "outputs": [
    {
     "name": "stdout",
     "output_type": "stream",
     "text": [
      " YAKIMA WA\n",
      "CWA CENTRAL WISCONSIN MOSINEE WI\n",
      "EAU CHIPPEWA VALLEY RGNL EAU CLAIRE WI\n",
      "ENW KENOSHA RGNL KENOSHA WI\n",
      "Page 3 of 4\n",
      "FAA Contract Tower Closure List\n",
      "(149 FCTs)\n",
      "3‐22‐2013\n",
      "LOC\n",
      "ID Facility Name City State\n",
      "JVL SOUTHERN WISCONSIN RGNL JANESVILLE WI\n",
      "LSE LA CROSSE MUNI LA CROSSE WI\n",
      "MWC LAWRENCE J TIMMERMAN MILWAUKEE WI\n",
      "OSH WITTMAN RGNL OSHKOSH WI\n",
      "UES WAUKESHA COUNTY WAUKESHA WI\n",
      "HLG WHEELING OHIO CO WHEELING WV\n",
      "LWB GREENBRIER VALLEY LEWISBURG WV\n",
      "PKB MID-OHIO VALLEY RGNL PARKERSBURG WV\n",
      "Page 4 of 4\n",
      "\n"
     ]
    }
   ],
   "source": [
    "# examine the last 500 characters\n",
    "print(data[-500:])"
   ]
  },
  {
   "cell_type": "markdown",
   "metadata": {},
   "source": [
    "Your assignment is to **create a list of tuples** containing the **tower IDs** and the **states** they are located in.\n",
    "\n",
    "Here is the **expected output:**\n",
    "\n",
    "> `faa = [('DHN', 'AL'), ('TCL', 'AL'), ..., ('PKB', 'WV')]`"
   ]
  },
  {
   "cell_type": "code",
   "execution_count": 6,
   "metadata": {
    "collapsed": true
   },
   "outputs": [],
   "source": [
    "import re"
   ]
  },
  {
   "cell_type": "code",
   "execution_count": 7,
   "metadata": {
    "collapsed": false
   },
   "outputs": [
    {
     "data": {
      "text/plain": [
       "[('DHN', 'AL'),\n",
       " ('TCL', 'AL'),\n",
       " ('FYV', 'AR'),\n",
       " ('TXK', 'AR'),\n",
       " ('GEU', 'AZ'),\n",
       " ('GYR', 'AZ'),\n",
       " ('IFP', 'AZ'),\n",
       " ('RYN', 'AZ'),\n",
       " ('FUL', 'CA'),\n",
       " ('MER', 'CA')]"
      ]
     },
     "execution_count": 7,
     "metadata": {},
     "output_type": "execute_result"
    }
   ],
   "source": [
    "re.findall(r'([A-Z][A-Z][A-Z]) .+ ([A-Z][A-Z])',data)[0:10]"
   ]
  },
  {
   "cell_type": "code",
   "execution_count": 8,
   "metadata": {
    "collapsed": false
   },
   "outputs": [],
   "source": [
    "re.findall(r'([A-Z]{3}) .+ ([A-Z]{2})',data)[0:10]\n",
    "closures = re.findall(r'([A-Z]{3}) .+ ([A-Z]{2})',data)"
   ]
  },
  {
   "cell_type": "markdown",
   "metadata": {},
   "source": [
    "As a **bonus task**, use regular expressions to extract the **number of closures** listed in the second line of the file (149), and then use an **assertion** to check that the number of closures is equal to the length of the `faa` list."
   ]
  },
  {
   "cell_type": "code",
   "execution_count": 9,
   "metadata": {
    "collapsed": false
   },
   "outputs": [
    {
     "data": {
      "text/plain": [
       "149"
      ]
     },
     "execution_count": 9,
     "metadata": {},
     "output_type": "execute_result"
    }
   ],
   "source": [
    "num_closures = int(re.search(r'\\((\\d+) FCTs\\)',data).group(1))\n",
    "num_closures"
   ]
  },
  {
   "cell_type": "code",
   "execution_count": 10,
   "metadata": {
    "collapsed": false
   },
   "outputs": [
    {
     "data": {
      "text/plain": [
       "149"
      ]
     },
     "execution_count": 10,
     "metadata": {},
     "output_type": "execute_result"
    }
   ],
   "source": [
    "assert num_closures == len(closures)\n",
    "len(closures)"
   ]
  },
  {
   "cell_type": "markdown",
   "metadata": {},
   "source": [
    "## Homework 2: Stack Overflow reputation\n",
    "\n",
    "I have downloaded my **Stack Overflow reputation history** into the file **`reputation.txt`**, which is stored in the **`data`** directory of the course repository. (If you are a Stack Overflow user with a reputation of 10 or more, you should be able to [download your own reputation history](http://stackoverflow.com/reputation).)\n",
    "\n",
    "We are only interested in the lines that **begin with two dashes**, such as:\n",
    "\n",
    "> `-- 2012-08-30 rep +5    = 6`\n",
    "\n",
    "That line can be interpreted as follows: \"On 2012-08-30, my reputation increased by 5, bringing my reputation total to 6.\""
   ]
  },
  {
   "cell_type": "markdown",
   "metadata": {},
   "source": [
    "Your assignment is to **create a list of tuples** containing only these dated entries, including the **date**, **reputation change** (regardless of whether it is positive/negative/zero), and **running total**.\n",
    "\n",
    "Here is the **expected output:**\n",
    "\n",
    "> `rep = [('2012-08-30', '+5', '6'), ('2012-12-11', '+10', '16'), ...,  ('2015-10-14', '-1', '317')]`"
   ]
  },
  {
   "cell_type": "code",
   "execution_count": 11,
   "metadata": {
    "collapsed": false
   },
   "outputs": [
    {
     "name": "stdout",
     "output_type": "stream",
     "text": [
      "total votes: 36\n",
      " 2  12201376 (5)\n",
      "-- 2012-08-30 rep +5    = 6         \n",
      " 2  13822612 (10)\n",
      "-- 2012-12-11 rep +10   = 16        \n",
      " 2  13822612 (10)\n",
      "-- 2013-03-20 rep +10   = 26        \n",
      "-- 2013-12-05 rep 0     = 26        \n",
      "-- 2014-01-25 rep 0     = 26        \n",
      " 16  7141669 (2)\n",
      "-- 2014-03-19 rep +2    = 28        \n",
      " 1  12202249 (2)\n",
      "-- 2014-05-11 rep +2    = 30        \n",
      " 16 23599806 (2)\n",
      " 2  23597220 (10)\n",
      "-- 2014-05-12 rep +12   = 42        \n",
      " 2  13822612 (10)\n",
      "-- 2014-06-12 rep +10   = 52        \n",
      " 2  2359722\n"
     ]
    }
   ],
   "source": [
    "with open('reputation.txt') as f:\n",
    "    data=f.read()\n",
    "print(data[0:500])"
   ]
  },
  {
   "cell_type": "code",
   "execution_count": 14,
   "metadata": {
    "collapsed": false
   },
   "outputs": [
    {
     "data": {
      "text/plain": [
       "[('2012-12-11', '+10', '16'),\n",
       " ('2013-03-20', '+10', '26'),\n",
       " ('2013-12-05', '0', '26'),\n",
       " ('2014-01-25', '0', '26'),\n",
       " ('2014-03-19', '+2', '28'),\n",
       " ('2014-05-11', '+2', '30'),\n",
       " ('2014-05-12', '+12', '42'),\n",
       " ('2014-06-12', '+10', '52'),\n",
       " ('2014-06-26', '+10', '62')]"
      ]
     },
     "execution_count": 14,
     "metadata": {},
     "output_type": "execute_result"
    }
   ],
   "source": [
    "rep = re.findall(r'-- (\\d{4}-\\d{2}-\\d{2}) rep ([+-]?\\d+)\\s+=\\s(\\d+)',data)\n",
    "rep[1:10]"
   ]
  },
  {
   "cell_type": "markdown",
   "metadata": {},
   "source": [
    "As a **bonus task**, convert this list of tuples into a **pandas DataFrame**. It should have appropriate column names, and the second and third columns should be of type integer (rather than string/object)."
   ]
  },
  {
   "cell_type": "code",
   "execution_count": 28,
   "metadata": {
    "collapsed": false
   },
   "outputs": [
    {
     "name": "stdout",
     "output_type": "stream",
     "text": [
      "date                 object\n",
      "reputation change     int32\n",
      "running total         int32\n",
      "dtype: object\n"
     ]
    },
    {
     "data": {
      "text/html": [
       "<div>\n",
       "<table border=\"1\" class=\"dataframe\">\n",
       "  <thead>\n",
       "    <tr style=\"text-align: right;\">\n",
       "      <th></th>\n",
       "      <th>date</th>\n",
       "      <th>reputation change</th>\n",
       "      <th>running total</th>\n",
       "    </tr>\n",
       "  </thead>\n",
       "  <tbody>\n",
       "    <tr>\n",
       "      <th>0</th>\n",
       "      <td>2012-08-30</td>\n",
       "      <td>5</td>\n",
       "      <td>6</td>\n",
       "    </tr>\n",
       "    <tr>\n",
       "      <th>1</th>\n",
       "      <td>2012-12-11</td>\n",
       "      <td>10</td>\n",
       "      <td>16</td>\n",
       "    </tr>\n",
       "    <tr>\n",
       "      <th>2</th>\n",
       "      <td>2013-03-20</td>\n",
       "      <td>10</td>\n",
       "      <td>26</td>\n",
       "    </tr>\n",
       "    <tr>\n",
       "      <th>3</th>\n",
       "      <td>2013-12-05</td>\n",
       "      <td>0</td>\n",
       "      <td>26</td>\n",
       "    </tr>\n",
       "    <tr>\n",
       "      <th>4</th>\n",
       "      <td>2014-01-25</td>\n",
       "      <td>0</td>\n",
       "      <td>26</td>\n",
       "    </tr>\n",
       "    <tr>\n",
       "      <th>5</th>\n",
       "      <td>2014-03-19</td>\n",
       "      <td>2</td>\n",
       "      <td>28</td>\n",
       "    </tr>\n",
       "    <tr>\n",
       "      <th>6</th>\n",
       "      <td>2014-05-11</td>\n",
       "      <td>2</td>\n",
       "      <td>30</td>\n",
       "    </tr>\n",
       "    <tr>\n",
       "      <th>7</th>\n",
       "      <td>2014-05-12</td>\n",
       "      <td>12</td>\n",
       "      <td>42</td>\n",
       "    </tr>\n",
       "    <tr>\n",
       "      <th>8</th>\n",
       "      <td>2014-06-12</td>\n",
       "      <td>10</td>\n",
       "      <td>52</td>\n",
       "    </tr>\n",
       "    <tr>\n",
       "      <th>9</th>\n",
       "      <td>2014-06-26</td>\n",
       "      <td>10</td>\n",
       "      <td>62</td>\n",
       "    </tr>\n",
       "  </tbody>\n",
       "</table>\n",
       "</div>"
      ],
      "text/plain": [
       "         date  reputation change  running total\n",
       "0  2012-08-30                  5              6\n",
       "1  2012-12-11                 10             16\n",
       "2  2013-03-20                 10             26\n",
       "3  2013-12-05                  0             26\n",
       "4  2014-01-25                  0             26\n",
       "5  2014-03-19                  2             28\n",
       "6  2014-05-11                  2             30\n",
       "7  2014-05-12                 12             42\n",
       "8  2014-06-12                 10             52\n",
       "9  2014-06-26                 10             62"
      ]
     },
     "execution_count": 28,
     "metadata": {},
     "output_type": "execute_result"
    }
   ],
   "source": [
    "import pandas as pd\n",
    "rep_df = pd.DataFrame(rep,columns=['date','reputation change','running total'],dtype='int')\n",
    "print(rep_df.dtypes)\n",
    "rep_df.head(10)"
   ]
  },
  {
   "cell_type": "code",
   "execution_count": null,
   "metadata": {
    "collapsed": true
   },
   "outputs": [],
   "source": []
  }
 ],
 "metadata": {
  "kernelspec": {
   "display_name": "Python 3",
   "language": "python",
   "name": "python3"
  },
  "language_info": {
   "codemirror_mode": {
    "name": "ipython",
    "version": 3
   },
   "file_extension": ".py",
   "mimetype": "text/x-python",
   "name": "python",
   "nbconvert_exporter": "python",
   "pygments_lexer": "ipython3",
   "version": "3.5.1"
  }
 },
 "nbformat": 4,
 "nbformat_minor": 0
}
