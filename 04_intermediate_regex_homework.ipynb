{
 "cells": [
  {
   "cell_type": "markdown",
   "metadata": {},
   "source": [
    "# Intermediate Regex Homework"
   ]
  },
  {
   "cell_type": "markdown",
   "metadata": {},
   "source": [
    "## UFO sightings\n",
    "\n",
    "The [ufo-reports](https://github.com/planetsig/ufo-reports) GitHub repository contains reports of UFO sightings downloaded from the [National UFO Reporting Center](http://www.nuforc.org/) website. One of the data fields is the **duration of the sighting**, which includes **free-form text**. These are some example entries:\n",
    "\n",
    "- 45 minutes\n",
    "- 1-2 hrs\n",
    "- 20 seconds\n",
    "- 1/2 hour\n",
    "- about 3 mins\n",
    "- several minutes\n",
    "- one hour?\n",
    "- 5min"
   ]
  },
  {
   "cell_type": "markdown",
   "metadata": {},
   "source": [
    "Here is **how to read in the file:**\n",
    "\n",
    "- Use the pandas **`read_csv()`** function to read directly from this [URL](https://raw.githubusercontent.com/planetsig/ufo-reports/master/csv-data/ufo-scrubbed-geocoded-time-standardized.csv).\n",
    "- Use the **`header=None`** parameter to specify that the data does not have a header row.\n",
    "- Use the **`nrows=100`** parameter to specify that you only want to read in the first 100 rows.\n",
    "- Save the relevant Series as a Python list, just like we did in a class exercise."
   ]
  },
  {
   "cell_type": "code",
   "execution_count": 107,
   "metadata": {
    "collapsed": false
   },
   "outputs": [
    {
     "data": {
      "text/plain": [
       "['45 minutes', '1-2 hrs', '20 seconds', '1/2 hour', '15 minutes']"
      ]
     },
     "execution_count": 107,
     "metadata": {},
     "output_type": "execute_result"
    }
   ],
   "source": [
    "import pandas as pd\n",
    "ufos = pd.read_csv('https://raw.githubusercontent.com/planetsig/ufo-reports/master/csv-data/ufo-scrubbed-geocoded-time-standardized.csv',header=None,nrows=100)\n",
    "durations = ufos[6].tolist()\n",
    "durations[:5]"
   ]
  },
  {
   "cell_type": "markdown",
   "metadata": {},
   "source": [
    "Your assignment is to **normalize the duration data for the first 100 rows** by splitting each entry into two parts:\n",
    "\n",
    "- The first part should be a **number**: either a whole number (such as '45') or a decimal (such as '0.5').\n",
    "- The second part should be a **unit of time**: either 'hr' or 'min' or 'sec'\n",
    "\n",
    "The expected output is a **list of tuples**, containing the **original (unedited) string**, the **number**, and the **unit of time**. Here is a what the output should look like:\n",
    "\n",
    "> `clean_durations = [('45 minutes', '45', 'min'), ('1-2 hrs', '1', 'hr'), ('20 seconds', '20', 'sec'), ...]`"
   ]
  },
  {
   "cell_type": "code",
   "execution_count": 119,
   "metadata": {
    "collapsed": false
   },
   "outputs": [
    {
     "data": {
      "text/plain": [
       "[('45 minutes', '45', 'min'),\n",
       " ('1-2 hrs', '1.5', 'hr'),\n",
       " ('20 seconds', '20', 'sec'),\n",
       " ('1/2 hour', '0.5', 'hr'),\n",
       " ('15 minutes', '15', 'min'),\n",
       " ('5 minutes', '5', 'min'),\n",
       " ('about 3 mins', '3', 'min'),\n",
       " ('20 minutes', '20', 'min'),\n",
       " ('3  minutes', '3', 'min'),\n",
       " ('several minutes', '5', 'min')]"
      ]
     },
     "execution_count": 119,
     "metadata": {},
     "output_type": "execute_result"
    }
   ],
   "source": [
    "import re\n",
    "\n",
    "# Utility function to get fractions\n",
    "def frac(s):\n",
    "    res = re.search(r'(\\d+)/(\\d+)',s)\n",
    "    if res:\n",
    "        n = float(res.group(1))\n",
    "        d = float(res.group(2))\n",
    "        return(str(n/d))\n",
    "    else:\n",
    "        return('')\n",
    "    \n",
    "# Utility function to get midpoint of ranges\n",
    "def span(s):\n",
    "    res = re.search(r'(\\d+) *(to|-) *(\\d+)',s)\n",
    "    if res:\n",
    "        t1 = float(res.group(1))\n",
    "        t2 = float(res.group(3))\n",
    "        return(str((t1+t2)/2))\n",
    "    else:\n",
    "        return('')\n",
    "    \n",
    "# text of numbers\n",
    "numtext = r'zero one two three four five six seven eight nine'.split()\n",
    "\n",
    "def make_tuples(duration):\n",
    "    timesub = [re.sub(r'( |-)?min.*$',r' min',x) for x in duration]\n",
    "    timesub = [re.sub(r'( |-)?sec.*$',r' sec',x) for x in timesub]\n",
    "    timesub = [re.sub(r'( |-)?(hour.*|hr.*)$',r' hr',x) for x in timesub]\n",
    "    approx_sub = [re.sub(r'(<|>|less than|more than|or more|or less|about|approx\\.?|~|\\+/-) ?',r'',x) for x in timesub]\n",
    "    approx_sub = [re.sub(r'several',r'5',x) for x in approx_sub]\n",
    "    approx_sub = [re.sub(r'few',r'3',x) for x in approx_sub]\n",
    "    approx_sub = [re.sub(r'couple',r'2',x) for x in approx_sub]\n",
    "    frac_sub = [re.sub(r'\\d+/\\d+',frac(x),x) for x in approx_sub]\n",
    "    span_sub = [re.sub(r'(\\d+) *(to|-) *(\\d+)',span(x),x) for x in frac_sub]\n",
    "    text_sub = span_sub\n",
    "    for i in range(0,9):\n",
    "        text_sub = [re.sub(numtext[i],str(i),x) for x in text_sub]\n",
    "    split_re = [re.search(r'([\\d.]+) *(hr|min|sec)',x) for x in text_sub]\n",
    "    if None in split_re:\n",
    "        print('Match failures:')\n",
    "        for i in range(0,len(duration)):\n",
    "            if split_re[i] == None:\n",
    "                print(duration[i])\n",
    "        return\n",
    "    else:\n",
    "        split_times = [x.groups() for x in split_re]\n",
    "        return([(duration[i],split_times[i][0],split_times[i][1]) for i in range(0,len(duration))])\n",
    "\n",
    "make_tuples(durations)[:10]"
   ]
  },
  {
   "cell_type": "markdown",
   "metadata": {},
   "source": [
    "Here are the **\"rules\" and guiding principles** for this assignment:\n",
    "\n",
    "- The normalized duration does not have to be exactly correct, but it must be at least **within the given range**. For example:\n",
    "    - If the duration is '20-30 min', acceptable answers include '20 min' and '30 min'.\n",
    "    - If the duration is '1/2 hour', the only acceptable answer is '0.5 hr'.\n",
    "- When a number is not given, you should make a **\"reasonable\" substitution for the words**. For example:\n",
    "    - If the duration is 'several minutes', you can approximate this as '5 min'.\n",
    "    - If the duration is 'couple minutes', you can approximate this as '2 min'.\n",
    "- You are not allowed to **skip any entries**. (Your list of tuples should have a length of 100.)\n",
    "- Try to use **as few substitutions as possible**, and make your regular expression **as simple as possible**.\n",
    "- Just because you don't get an error doesn't mean that your code was successful. Instead, you should **check each entry by hand** to see if it produced an acceptable result."
   ]
  },
  {
   "cell_type": "markdown",
   "metadata": {},
   "source": [
    "**Bonus tasks:**\n",
    "\n",
    "- Try reading in **more than 100 rows**, and see if your code still produces the correct results.\n",
    "- When a range is specified (such as '1-2 hrs' or '10 to 15 sec'), **calculate the exact midpoint** ('1.5 hr' or '12.5 sec') to use in your normalized data."
   ]
  },
  {
   "cell_type": "code",
   "execution_count": 120,
   "metadata": {
    "collapsed": false
   },
   "outputs": [
    {
     "name": "stdout",
     "output_type": "stream",
     "text": [
      "Match failures:\n",
      "2/min.\n",
      "less then a minute\n",
      "00:43\n",
      "5:00\n",
      "one + minutes\n",
      "1:00:00\n"
     ]
    }
   ],
   "source": [
    "#more_ufos = pd.read_csv('https://raw.githubusercontent.com/planetsig/ufo-reports/master/csv-data/ufo-scrubbed-geocoded-time-standardized.csv',header=None,nrows=200)\n",
    "more_dur = more_ufos[6].tolist()\n",
    "make_tuples(more_dur)"
   ]
  },
  {
   "cell_type": "markdown",
   "metadata": {},
   "source": [
    "Ugh. Does \"00:43\" mean 43 seconds or 43 minutes? And is \"5:00\" five hours, or five minutes, or an interval that began (or ended) at 5 o'clock? "
   ]
  },
  {
   "cell_type": "code",
   "execution_count": null,
   "metadata": {
    "collapsed": true
   },
   "outputs": [],
   "source": []
  }
 ],
 "metadata": {
  "kernelspec": {
   "display_name": "Python 3",
   "language": "python",
   "name": "python3"
  },
  "language_info": {
   "codemirror_mode": {
    "name": "ipython",
    "version": 3
   },
   "file_extension": ".py",
   "mimetype": "text/x-python",
   "name": "python",
   "nbconvert_exporter": "python",
   "pygments_lexer": "ipython3",
   "version": "3.5.1"
  }
 },
 "nbformat": 4,
 "nbformat_minor": 0
}
